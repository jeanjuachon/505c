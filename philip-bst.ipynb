{
 "cells": [
  {
   "cell_type": "code",
   "execution_count": 211,
   "id": "8dfdfe37-eb82-4587-a0eb-e3668d15f229",
   "metadata": {},
   "outputs": [],
   "source": [
    "class node():\n",
    "    def __init__(self, value):\n",
    "        self.value = value\n",
    "        self.lchild = None\n",
    "        self.rchild = None\n",
    "\n",
    "#Required methods: Create, Insert, Search, Destroy\n",
    "#Done: Create, Insert, Destroy, Search\n",
    "#Next: \n",
    "class BinarySearchTree:\n",
    "    def __init__(self, root = None): #Create method of the BST (empty)\n",
    "        self.root = root\n",
    "    \n",
    "    def create(self):\n",
    "        self.root = None\n",
    "        \n",
    "    def get_root(self):\n",
    "        return self.root\n",
    "        \n",
    "    def insert_helper(self, this_node, value):\n",
    "        if this_node.value > value:\n",
    "            if this_node.lchild is None:\n",
    "                this_node.lchild = node(value)\n",
    "            else:\n",
    "                self.insert_helper(this_node.lchild, value)\n",
    "        else:\n",
    "            if this_node.rchild is None:\n",
    "                this_node.rchild = node(value)\n",
    "            else:\n",
    "                self.insert_helper(this_node.rchild, value)\n",
    "        \n",
    "    def insert(self, value): #insert a value to the BST\n",
    "        if self.root == None: #Check if the root is empty\n",
    "            self.root = node(value) #make the input as the root if it is empty\n",
    "        else: #if root is already filled\n",
    "            self.insert_helper(self.root, value)\n",
    "            \n",
    "    def inorder(self, this_node):\n",
    "        if this_node:\n",
    "            self.inorder(this_node.lchild)\n",
    "            print(this_node.value, \"-- \", end = '')\n",
    "            self.inorder(this_node.rchild)\n",
    "            \n",
    "    def search(self, this_node, key):\n",
    "        if this_node is None:\n",
    "            print(f'Key {key} is Not Found!')\n",
    "            return False\n",
    "        elif this_node.value == key:\n",
    "            print(f'Key {key} Found :)')\n",
    "            return True\n",
    "        elif key < this_node.value:\n",
    "            self.search(this_node.lchild, key)\n",
    "        else:\n",
    "            self.search(this_node.rchild, key)\n",
    "    \n",
    "    def print(self, traversal = \"inorder\"):\n",
    "        if self.root == None:\n",
    "            print(\"Tree has no root, either destroyed or not made\")\n",
    "            return False\n",
    "        else:\n",
    "            print(f\"Root of this tree: {self.root.value}\")\n",
    "            print(\"Inorder Traversal:\")\n",
    "            self.inorder(self.root)\n",
    "        \n",
    "    def destroy(self):\n",
    "        self.root = None"
   ]
  },
  {
   "cell_type": "code",
   "execution_count": 209,
   "id": "8ed2aeae-dd6d-441e-82ac-5402b4b6fde9",
   "metadata": {},
   "outputs": [],
   "source": [
    "bst = BinarySearchTree()\n",
    "bst.create()"
   ]
  },
  {
   "cell_type": "code",
   "execution_count": 212,
   "id": "2cb59f1f-6968-42c7-a891-83e210ec19b4",
   "metadata": {},
   "outputs": [
    {
     "name": "stdout",
     "output_type": "stream",
     "text": [
      "Root of this tree: dog\n",
      "Inorder Traversal:\n",
      "apple -- banana -- cat -- dog -- english -- "
     ]
    }
   ],
   "source": [
    "nums = [\"dog\", \"banana\", \"cat\", \"apple\", \"english\"]\n",
    "for i in nums:\n",
    "    bst.insert(i)\n",
    "bst.print()"
   ]
  },
  {
   "cell_type": "code",
   "execution_count": 213,
   "id": "f3bbed07-ada1-4c99-a86d-5a54ccc3b4d7",
   "metadata": {},
   "outputs": [
    {
     "name": "stdout",
     "output_type": "stream",
     "text": [
      "Key donkey is Not Found!\n",
      "Key malamute is Not Found!\n",
      "Key water is Not Found!\n",
      "Key dog Found :)\n"
     ]
    }
   ],
   "source": [
    "searches = [\"donkey\", \"malamute\", \"water\", \"dog\"]\n",
    "for i in searches:\n",
    "    bst.search(bst.get_root(), i)"
   ]
  },
  {
   "cell_type": "code",
   "execution_count": 214,
   "id": "2f59070f-b16a-4e70-84be-b597d97d9b4a",
   "metadata": {},
   "outputs": [],
   "source": [
    "bst.destroy()"
   ]
  },
  {
   "cell_type": "code",
   "execution_count": 215,
   "id": "520c8f09-fe72-4db5-bdd0-8544915dd848",
   "metadata": {},
   "outputs": [
    {
     "name": "stdout",
     "output_type": "stream",
     "text": [
      "Tree has no root, either destroyed or not made\n"
     ]
    },
    {
     "data": {
      "text/plain": [
       "False"
      ]
     },
     "execution_count": 215,
     "metadata": {},
     "output_type": "execute_result"
    }
   ],
   "source": [
    "bst.print()"
   ]
  },
  {
   "cell_type": "code",
   "execution_count": null,
   "id": "0df87a80-ff2b-495d-b44c-88d6fdaced28",
   "metadata": {},
   "outputs": [],
   "source": []
  }
 ],
 "metadata": {
  "kernelspec": {
   "display_name": "Python 3 (ipykernel)",
   "language": "python",
   "name": "python3"
  },
  "language_info": {
   "codemirror_mode": {
    "name": "ipython",
    "version": 3
   },
   "file_extension": ".py",
   "mimetype": "text/x-python",
   "name": "python",
   "nbconvert_exporter": "python",
   "pygments_lexer": "ipython3",
   "version": "3.7.4"
  }
 },
 "nbformat": 4,
 "nbformat_minor": 5
}
