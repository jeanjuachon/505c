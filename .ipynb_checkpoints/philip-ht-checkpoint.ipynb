{
 "cells": [
  {
   "cell_type": "code",
   "execution_count": 40,
   "id": "b9995427-f954-4a18-8106-b07b3148f5df",
   "metadata": {},
   "outputs": [],
   "source": [
    "import math\n",
    "def getPrimes(limit):\n",
    "    # The list of prime numbers\n",
    "    primes = []\n",
    "    # The boolean list of whether a number is prime\n",
    "    numbers = [True] * (limit+1)\n",
    "    # Loop all of the numbers in numbers starting from 2\n",
    "    for i in range(2, limit+1):\n",
    "        # If the number is prime\n",
    "        if numbers[i]:\n",
    "            # Add it onto the list of prime numbers\n",
    "            primes.append(i)\n",
    "            # Loop over all of the other factors in the list\n",
    "            for n in range(i ** 2, limit +1, i):\n",
    "                # Make them not prime\n",
    "                numbers[n] = False\n",
    "\n",
    "    # Return the list of prime numbers\n",
    "    return primes\n",
    "\n",
    "def getFinalPrime(listofPrime):\n",
    "    n = len(listofPrime)\n",
    "    return listofPrime[n-1]"
   ]
  },
  {
   "cell_type": "code",
   "execution_count": null,
   "id": "a13d027d-2cde-4e3e-b1fd-a35b028e83ce",
   "metadata": {},
   "outputs": [],
   "source": []
  },
  {
   "cell_type": "code",
   "execution_count": 41,
   "id": "abb5406a-5511-4c8a-a5c8-2ce48c53f689",
   "metadata": {
    "tags": []
   },
   "outputs": [
    {
     "name": "stdout",
     "output_type": "stream",
     "text": [
      "[2, 3, 5, 7, 11]\n",
      "11\n"
     ]
    }
   ],
   "source": [
    "print(getPrimes(12))\n",
    "print(getFinalPrime(getPrimes(12)))"
   ]
  },
  {
   "cell_type": "code",
   "execution_count": 43,
   "id": "fcef8f9a-4c1a-4797-860b-7b0dbdea2194",
   "metadata": {},
   "outputs": [],
   "source": [
    "#Division Method\n",
    "n = 11\n",
    "def div_hash(text, n):\n",
    "    h = 0 \n",
    "    for char in text: #iterate through all the char in text\n",
    "        h += ord(char) #Get all the ascii values of each letter in the text then sum it all\n",
    "    return h % n #return the modulo as the hashed value"
   ]
  },
  {
   "cell_type": "code",
   "execution_count": 53,
   "id": "4f0d5953-fba0-4a16-b822-53bc222ad00e",
   "metadata": {},
   "outputs": [
    {
     "data": {
      "text/plain": [
       "1"
      ]
     },
     "execution_count": 53,
     "metadata": {},
     "output_type": "execute_result"
    }
   ],
   "source": [
    "div_hash(\"facebook\", n)"
   ]
  },
  {
   "cell_type": "code",
   "execution_count": 50,
   "id": "40576635-6f27-4ebf-9cc6-319fae143515",
   "metadata": {},
   "outputs": [
    {
     "data": {
      "text/plain": [
       "500"
      ]
     },
     "execution_count": 50,
     "metadata": {},
     "output_type": "execute_result"
    }
   ],
   "source": [
    "total_ascii = ord(\"H\") + ord(\"e\") + ord(\"l\") + ord(\"l\") + ord(\"o\")\n",
    "total_ascii"
   ]
  },
  {
   "cell_type": "code",
   "execution_count": 55,
   "id": "806a65f2-e843-449f-9a0d-199b4d19dfdb",
   "metadata": {},
   "outputs": [
    {
     "data": {
      "text/plain": [
       "-5439732921658979512"
      ]
     },
     "execution_count": 55,
     "metadata": {},
     "output_type": "execute_result"
    }
   ],
   "source": [
    "hash(\"Hello\")"
   ]
  },
  {
   "cell_type": "code",
   "execution_count": 56,
   "id": "2a867162-d93c-4479-8f4d-b3285086d850",
   "metadata": {},
   "outputs": [
    {
     "data": {
      "text/plain": [
       "\u001b[0;31mSignature:\u001b[0m \u001b[0mhash\u001b[0m\u001b[0;34m(\u001b[0m\u001b[0mobj\u001b[0m\u001b[0;34m,\u001b[0m \u001b[0;34m/\u001b[0m\u001b[0;34m)\u001b[0m\u001b[0;34m\u001b[0m\u001b[0;34m\u001b[0m\u001b[0m\n",
       "\u001b[0;31mDocstring:\u001b[0m\n",
       "Return the hash value for the given object.\n",
       "\n",
       "Two objects that compare equal must also have the same hash value, but the\n",
       "reverse is not necessarily true.\n",
       "\u001b[0;31mType:\u001b[0m      builtin_function_or_method\n"
      ]
     },
     "metadata": {},
     "output_type": "display_data"
    }
   ],
   "source": [
    "hash?"
   ]
  },
  {
   "cell_type": "code",
   "execution_count": null,
   "id": "247da0f2-d28a-44de-990f-f75662da5a8b",
   "metadata": {},
   "outputs": [],
   "source": []
  }
 ],
 "metadata": {
  "kernelspec": {
   "display_name": "Python 3 (ipykernel)",
   "language": "python",
   "name": "python3"
  },
  "language_info": {
   "codemirror_mode": {
    "name": "ipython",
    "version": 3
   },
   "file_extension": ".py",
   "mimetype": "text/x-python",
   "name": "python",
   "nbconvert_exporter": "python",
   "pygments_lexer": "ipython3",
   "version": "3.7.4"
  }
 },
 "nbformat": 4,
 "nbformat_minor": 5
}
